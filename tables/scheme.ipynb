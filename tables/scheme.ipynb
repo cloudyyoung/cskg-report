{
 "cells": [
  {
   "cell_type": "code",
   "execution_count": 49,
   "metadata": {},
   "outputs": [],
   "source": [
    "import pandas as pd\n",
    "from openpyxl import load_workbook"
   ]
  },
  {
   "cell_type": "code",
   "execution_count": 50,
   "metadata": {},
   "outputs": [],
   "source": [
    "excel_path = \"scheme.xlsx\"\n",
    "sheet_name = \"Sheet1\"\n",
    "latex_path = \"scheme.tex\""
   ]
  },
  {
   "cell_type": "code",
   "execution_count": 51,
   "metadata": {},
   "outputs": [],
   "source": [
    "wb = load_workbook(excel_path)\n",
    "sheet = wb[sheet_name]"
   ]
  },
  {
   "cell_type": "code",
   "execution_count": 52,
   "metadata": {},
   "outputs": [
    {
     "data": {
      "text/plain": [
       "{<MergedCellRange B5:B8>,\n",
       " <MergedCellRange B17:B19>,\n",
       " <MergedCellRange A17:A29>,\n",
       " <MergedCellRange B12:B14>,\n",
       " <MergedCellRange B20:B23>,\n",
       " <MergedCellRange B9:B11>,\n",
       " <MergedCellRange A2:A14>,\n",
       " <MergedCellRange B24:B26>,\n",
       " <MergedCellRange B2:B4>,\n",
       " <MergedCellRange B27:B29>}"
      ]
     },
     "execution_count": 52,
     "metadata": {},
     "output_type": "execute_result"
    }
   ],
   "source": [
    "sheet.merged_cells.ranges"
   ]
  },
  {
   "cell_type": "code",
   "execution_count": 53,
   "metadata": {},
   "outputs": [],
   "source": [
    "def escape(s: str):\n",
    "    return s.replace(\"_\", \"\\\\_\")"
   ]
  },
  {
   "cell_type": "code",
   "execution_count": 54,
   "metadata": {},
   "outputs": [],
   "source": [
    "# latex = \"\\\\begin{tabular}{\" + \"l\" * sheet.max_column + \"}\\n\\\\hline\\n\"\n",
    "latex = \"\\\\begin{tabular}{p{1.6cm}||p{1.7cm}|p{2cm}p{10.8cm}}\"\n",
    "latex += \"\\\\hline\\n\"\n",
    "\n",
    "for row in sheet.iter_rows():\n",
    "\n",
    "    cells_latex = []\n",
    "    cline_ranges = []\n",
    "\n",
    "    for cell in row:\n",
    "\n",
    "        # Find merged range\n",
    "        is_merged, is_merged_master, is_merged_tail = False, False, False\n",
    "        for merged_range in sheet.merged_cells.ranges:\n",
    "            if cell.coordinate in merged_range:\n",
    "                is_merged = True\n",
    "                is_merged_master = is_merged and cell.value is not None\n",
    "                is_merged_tail = is_merged and cell.column == merged_range.max_col and cell.row == merged_range.max_row\n",
    "                break\n",
    "\n",
    "        cell_value = escape(str(cell.value)) if cell.value else \"\"\n",
    "        cell_value = f\"\\\\textbf{{{cell_value}}}\" if cell.font.bold else cell_value\n",
    "        cell_value = f\"\\\\underline{{{cell_value}}}\" if cell.font.underline else cell_value\n",
    "        cell_value = f\"\\\\textit{{{cell_value}}}\" if cell.font.italic else cell_value\n",
    "\n",
    "        if is_merged and is_merged_master:\n",
    "            merged_size_columns = merged_range.max_col - merged_range.min_col + 1\n",
    "            merged_size_rows = merged_range.max_row - merged_range.min_row + 1\n",
    "            cells_latex.append(\n",
    "                f\"\\\\multirow{{{merged_size_rows}}}{{*}}{{{cell_value}}}\"\n",
    "            )\n",
    "\n",
    "        elif is_merged:\n",
    "            cells_latex.append(\"\")\n",
    "        else:\n",
    "            cells_latex.append(f\"{cell_value}\")\n",
    "\n",
    "        if not is_merged:\n",
    "            cline_ranges.append(cell.column)\n",
    "        elif is_merged_tail:\n",
    "            cline_ranges.append(cell.column)\n",
    "\n",
    "    latex += \" & \".join(cells_latex) + \" \\\\\\\\\\n\"\n",
    "    latex += \"\".join(\n",
    "        map(lambda x: f\"\\\\cline{{{str(x)}-{str(x)}}}\", set(cline_ranges))\n",
    "    )\n",
    "    latex += \"\\n\"\n",
    "\n",
    "latex += \"\\\\hline\\n\"\n",
    "latex += \"\\\\end{tabular}\""
   ]
  },
  {
   "cell_type": "code",
   "execution_count": 55,
   "metadata": {},
   "outputs": [
    {
     "data": {
      "text/plain": [
       "[1, 2, 3, 4, 5]"
      ]
     },
     "execution_count": 55,
     "metadata": {},
     "output_type": "execute_result"
    }
   ],
   "source": [
    "cline_ranges"
   ]
  },
  {
   "cell_type": "code",
   "execution_count": 56,
   "metadata": {},
   "outputs": [],
   "source": [
    "# Save the LaTeX code to a .tex file\n",
    "with open(latex_path, \"w\") as f:\n",
    "    f.write(latex)"
   ]
  }
 ],
 "metadata": {
  "kernelspec": {
   "display_name": ".venv",
   "language": "python",
   "name": "python3"
  },
  "language_info": {
   "codemirror_mode": {
    "name": "ipython",
    "version": 3
   },
   "file_extension": ".py",
   "mimetype": "text/x-python",
   "name": "python",
   "nbconvert_exporter": "python",
   "pygments_lexer": "ipython3",
   "version": "3.11.7"
  }
 },
 "nbformat": 4,
 "nbformat_minor": 2
}
